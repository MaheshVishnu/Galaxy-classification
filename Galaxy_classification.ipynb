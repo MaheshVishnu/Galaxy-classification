{
 "cells": [
  {
   "cell_type": "code",
   "execution_count": 11,
   "metadata": {},
   "outputs": [],
   "source": [
    "# Import the required libraries and modules for building the model\n",
    "import numpy as np\n",
    "import keras\n",
    "import matplotlib.pyplot as plt\n",
    "import pandas as pd\n",
    "import vs as vs\n",
    "from IPython.display import display\n",
    "%matplotlib inline"
   ]
  },
  {
   "cell_type": "code",
   "execution_count": 2,
   "metadata": {},
   "outputs": [
    {
     "data": {
      "text/html": [
       "<div>\n",
       "<style>\n",
       "    .dataframe thead tr:only-child th {\n",
       "        text-align: right;\n",
       "    }\n",
       "\n",
       "    .dataframe thead th {\n",
       "        text-align: left;\n",
       "    }\n",
       "\n",
       "    .dataframe tbody tr th {\n",
       "        vertical-align: top;\n",
       "    }\n",
       "</style>\n",
       "<table border=\"1\" class=\"dataframe\">\n",
       "  <thead>\n",
       "    <tr style=\"text-align: right;\">\n",
       "      <th></th>\n",
       "      <th>NVOTE</th>\n",
       "      <th>P_EL</th>\n",
       "      <th>P_CW</th>\n",
       "      <th>P_ACW</th>\n",
       "      <th>P_EDGE</th>\n",
       "      <th>P_DK</th>\n",
       "      <th>P_MG</th>\n",
       "      <th>P_CS</th>\n",
       "      <th>P_EL_DEBIASED</th>\n",
       "      <th>P_CS_DEBIASED</th>\n",
       "      <th>RESULTS</th>\n",
       "    </tr>\n",
       "  </thead>\n",
       "  <tbody>\n",
       "    <tr>\n",
       "      <th>0</th>\n",
       "      <td>59</td>\n",
       "      <td>0.610</td>\n",
       "      <td>0.034</td>\n",
       "      <td>0.000</td>\n",
       "      <td>0.153</td>\n",
       "      <td>0.153</td>\n",
       "      <td>0.051</td>\n",
       "      <td>0.186</td>\n",
       "      <td>0.610</td>\n",
       "      <td>0.186</td>\n",
       "      <td>3</td>\n",
       "    </tr>\n",
       "    <tr>\n",
       "      <th>1</th>\n",
       "      <td>18</td>\n",
       "      <td>0.611</td>\n",
       "      <td>0.000</td>\n",
       "      <td>0.167</td>\n",
       "      <td>0.222</td>\n",
       "      <td>0.000</td>\n",
       "      <td>0.000</td>\n",
       "      <td>0.389</td>\n",
       "      <td>0.203</td>\n",
       "      <td>0.797</td>\n",
       "      <td>1</td>\n",
       "    </tr>\n",
       "    <tr>\n",
       "      <th>2</th>\n",
       "      <td>68</td>\n",
       "      <td>0.735</td>\n",
       "      <td>0.029</td>\n",
       "      <td>0.000</td>\n",
       "      <td>0.147</td>\n",
       "      <td>0.074</td>\n",
       "      <td>0.015</td>\n",
       "      <td>0.176</td>\n",
       "      <td>0.432</td>\n",
       "      <td>0.428</td>\n",
       "      <td>3</td>\n",
       "    </tr>\n",
       "    <tr>\n",
       "      <th>3</th>\n",
       "      <td>52</td>\n",
       "      <td>0.885</td>\n",
       "      <td>0.019</td>\n",
       "      <td>0.000</td>\n",
       "      <td>0.058</td>\n",
       "      <td>0.019</td>\n",
       "      <td>0.019</td>\n",
       "      <td>0.077</td>\n",
       "      <td>0.885</td>\n",
       "      <td>0.077</td>\n",
       "      <td>2</td>\n",
       "    </tr>\n",
       "    <tr>\n",
       "      <th>4</th>\n",
       "      <td>59</td>\n",
       "      <td>0.712</td>\n",
       "      <td>0.000</td>\n",
       "      <td>0.000</td>\n",
       "      <td>0.220</td>\n",
       "      <td>0.068</td>\n",
       "      <td>0.000</td>\n",
       "      <td>0.220</td>\n",
       "      <td>0.640</td>\n",
       "      <td>0.290</td>\n",
       "      <td>3</td>\n",
       "    </tr>\n",
       "  </tbody>\n",
       "</table>\n",
       "</div>"
      ],
      "text/plain": [
       "   NVOTE   P_EL   P_CW  P_ACW  P_EDGE   P_DK   P_MG   P_CS  P_EL_DEBIASED  \\\n",
       "0     59  0.610  0.034  0.000   0.153  0.153  0.051  0.186          0.610   \n",
       "1     18  0.611  0.000  0.167   0.222  0.000  0.000  0.389          0.203   \n",
       "2     68  0.735  0.029  0.000   0.147  0.074  0.015  0.176          0.432   \n",
       "3     52  0.885  0.019  0.000   0.058  0.019  0.019  0.077          0.885   \n",
       "4     59  0.712  0.000  0.000   0.220  0.068  0.000  0.220          0.640   \n",
       "\n",
       "   P_CS_DEBIASED  RESULTS  \n",
       "0          0.186        3  \n",
       "1          0.797        1  \n",
       "2          0.428        3  \n",
       "3          0.077        2  \n",
       "4          0.290        3  "
      ]
     },
     "metadata": {},
     "output_type": "display_data"
    }
   ],
   "source": [
    "# Now, load the data into the model\n",
    "try:\n",
    "    data = pd.read_csv(\"GalaxyZoo1_DR_table2.csv\")\n",
    "    data['RESULTS'] = data['SPIRAL'] + 2*data['ELLIPTICAL'] + 3 * data['UNCERTAIN']\n",
    "    data.drop(['OBJID', 'RA', 'DEC', 'SPIRAL', 'ELLIPTICAL', 'UNCERTAIN'], axis = 1, inplace = True)\n",
    "except :\n",
    "    print (\"Dataset could not be loaded. Is the dataset missing?\")\n",
    "display(data.head())"
   ]
  },
  {
   "cell_type": "code",
   "execution_count": 3,
   "metadata": {},
   "outputs": [
    {
     "name": "stderr",
     "output_type": "stream",
     "text": [
      "/usr/local/lib/python3.4/dist-packages/sklearn/cross_validation.py:44: DeprecationWarning: This module was deprecated in version 0.18 in favor of the model_selection module into which all the refactored classes and functions are moved. Also note that the interface of the new CV iterators are different from that of this module. This module will be removed in 0.20.\n",
      "  \"This module will be removed in 0.20.\", DeprecationWarning)\n"
     ]
    }
   ],
   "source": [
    "# Data is to be preprocessed using one hot encoder\n",
    "from sklearn.preprocessing import OneHotEncoder\n",
    "\n",
    "OHE = OneHotEncoder(categorical_features = [1])\n",
    "\n",
    "x = data.drop(['RESULTS'], axis = 1, inplace = False)\n",
    "y = data['RESULTS']\n",
    "x = x.fillna(x.mean())\n",
    "y = y.fillna(y.mean())\n",
    "\n",
    "OHE.fit(x)\n",
    "\n",
    "# Building train, test sets for training and evaluating\n",
    "\n",
    "from sklearn.cross_validation import train_test_split\n",
    "\n",
    "x_train, x_test, y_train, y_test= train_test_split(x, y, test_size = 0.3)"
   ]
  },
  {
   "cell_type": "code",
   "execution_count": 4,
   "metadata": {},
   "outputs": [
    {
     "name": "stderr",
     "output_type": "stream",
     "text": [
      "[Parallel(n_jobs=1)]: Done  10 out of  10 | elapsed:   24.6s finished\n"
     ]
    },
    {
     "data": {
      "text/plain": [
       "RandomForestClassifier(bootstrap=True, class_weight=None, criterion='gini',\n",
       "            max_depth=17, max_features='auto', max_leaf_nodes=None,\n",
       "            min_impurity_split=1e-07, min_samples_leaf=1,\n",
       "            min_samples_split=2, min_weight_fraction_leaf=0.0,\n",
       "            n_estimators=10, n_jobs=1, oob_score=False, random_state=42,\n",
       "            verbose=True, warm_start=False)"
      ]
     },
     "execution_count": 4,
     "metadata": {},
     "output_type": "execute_result"
    }
   ],
   "source": [
    "# Train the model using RandomForestClassifier\n",
    "from sklearn.ensemble import RandomForestClassifier # importing classifier\n",
    "\n",
    "# initializing classifier\n",
    "Randomforest_classifier = RandomForestClassifier(max_depth = 17, random_state = 42, verbose = True)\n",
    "\n",
    "Randomforest_classifier.fit(x_train, y_train) # fit the classifier to train on the training set"
   ]
  },
  {
   "cell_type": "code",
   "execution_count": 5,
   "metadata": {},
   "outputs": [
    {
     "name": "stdout",
     "output_type": "stream",
     "text": [
      "Iteration 1, loss = 0.41678496\n",
      "Iteration 2, loss = 0.33371684\n",
      "Iteration 3, loss = 0.30713228\n",
      "Iteration 4, loss = 0.26546475\n",
      "Iteration 5, loss = 0.25693156\n",
      "Iteration 6, loss = 0.25377010\n",
      "Iteration 7, loss = 0.25263145\n",
      "Iteration 8, loss = 0.24953637\n",
      "Iteration 9, loss = 0.24956839\n",
      "Iteration 10, loss = 0.24575794\n",
      "Iteration 11, loss = 0.24340907\n",
      "Iteration 12, loss = 0.23872085\n",
      "Iteration 13, loss = 0.23640633\n",
      "Iteration 14, loss = 0.23444116\n",
      "Iteration 15, loss = 0.23294443\n",
      "Iteration 16, loss = 0.23190310\n",
      "Iteration 17, loss = 0.23007387\n",
      "Iteration 18, loss = 0.22900180\n",
      "Iteration 19, loss = 0.22840367\n",
      "Iteration 20, loss = 0.22842326\n",
      "Iteration 21, loss = 0.22597930\n",
      "Iteration 22, loss = 0.22623782\n",
      "Iteration 23, loss = 0.22464546\n",
      "Iteration 24, loss = 0.22345491\n",
      "Iteration 25, loss = 0.22454024\n",
      "Iteration 26, loss = 0.22293980\n",
      "Iteration 27, loss = 0.22308562\n",
      "Iteration 28, loss = 0.22308418\n",
      "Iteration 29, loss = 0.22278052\n",
      "Iteration 30, loss = 0.22142034\n",
      "Iteration 31, loss = 0.22257530\n",
      "Iteration 32, loss = 0.22128971\n",
      "Iteration 33, loss = 0.22068442\n",
      "Iteration 34, loss = 0.22134366\n",
      "Iteration 35, loss = 0.22137458\n",
      "Iteration 36, loss = 0.22188793\n",
      "Training loss did not improve more than tol=0.000100 for two consecutive epochs. Stopping.\n"
     ]
    },
    {
     "data": {
      "text/plain": [
       "MLPClassifier(activation='relu', alpha=0.0001, batch_size='auto', beta_1=0.9,\n",
       "       beta_2=0.999, early_stopping=False, epsilon=1e-08,\n",
       "       hidden_layer_sizes=(7, 12, 12, 12, 21, 12, 12, 12, 7),\n",
       "       learning_rate='constant', learning_rate_init=0.001, max_iter=100000,\n",
       "       momentum=0.9, nesterovs_momentum=True, power_t=0.5,\n",
       "       random_state=None, shuffle=True, solver='adam', tol=0.0001,\n",
       "       validation_fraction=0.1, verbose=True, warm_start=False)"
      ]
     },
     "execution_count": 5,
     "metadata": {},
     "output_type": "execute_result"
    }
   ],
   "source": [
    "# Train the model using MLPClassifier\n",
    "from sklearn.neural_network import MLPClassifier # importing classifier\n",
    "\n",
    "# initializing classifier\n",
    "MLP_classifier = MLPClassifier(hidden_layer_sizes = (7, 12, 12, 12, 21, 12, 12, 12, 7), max_iter = 1000, verbose = True)\n",
    "\n",
    "MLP_classifier.fit(x_train, y_train) # fit the classifier to train on the training set"
   ]
  },
  {
   "cell_type": "code",
   "execution_count": 7,
   "metadata": {},
   "outputs": [
    {
     "name": "stderr",
     "output_type": "stream",
     "text": [
      "[Parallel(n_jobs=1)]: Done  10 out of  10 | elapsed:    0.6s finished\n"
     ]
    }
   ],
   "source": [
    "# Evaluate the model using f1_score over test set\n",
    "\n",
    "from sklearn.metrics import f1_score # importing evaluation metrics\n",
    "\n",
    "# predict the output for testing set using random forest classifier\n",
    "Randomforest_predictions = Randomforest_classifier.predict(x_test)\n",
    "\n",
    "# predict the output for testing set using MLP classifier\n",
    "MLP_predictions = MLP_classifier.predict(x_test)\n",
    "\n",
    "# determine f1_score for radom forest classifier\n",
    "Randomforest_score_macro = f1_score(y_test, Randomforest_predictions, average = 'macro')\n",
    "Randomforest_score_micro = f1_score(y_test, Randomforest_predictions, average = 'micro')\n",
    "Randomforest_score_None = f1_score(y_test, Randomforest_predictions, average = None)\n",
    "\n",
    "# determine f1_score for MLP classifier\n",
    "MLP_score_macro = f1_score(y_test, MLP_predictions, average = 'macro')\n",
    "MLP_score_micro = f1_score(y_test, MLP_predictions, average = 'micro')\n",
    "MLP_score_None = f1_score(y_test, MLP_predictions, average = None)"
   ]
  },
  {
   "cell_type": "code",
   "execution_count": 8,
   "metadata": {},
   "outputs": [
    {
     "name": "stdout",
     "output_type": "stream",
     "text": [
      "Randomforest scores :\n",
      "macro :  0.878606524596\n",
      "micro :  0.900950175663\n",
      "None :  [ 0.87920844  0.83618622  0.92042491]\n",
      "MLP scores :\n",
      "macro :  0.867826682279\n",
      "micro :  0.889651868413\n",
      "None :  [ 0.87660838  0.81898165  0.90789002]\n"
     ]
    }
   ],
   "source": [
    "# display all the scores\n",
    "print(\"Randomforest scores :\", end = (\"\\n\"))\n",
    "print(\"macro : \" , Randomforest_score_macro)\n",
    "print(\"micro : \" , Randomforest_score_micro)\n",
    "print(\"None : \" , Randomforest_score_None)\n",
    "print(\"MLP scores :\", end = (\"\\n\"))\n",
    "print(\"macro : \" , MLP_score_macro)\n",
    "print(\"micro : \" , MLP_score_micro)\n",
    "print(\"None : \" , MLP_score_None)"
   ]
  },
  {
   "cell_type": "code",
   "execution_count": 12,
   "metadata": {},
   "outputs": [
    {
     "data": {
      "image/png": "[encoded data removed]",
      "text/plain": [
       "<matplotlib.figure.Figure at 0x7f257081c320>"
      ]
     },
     "metadata": {},
     "output_type": "display_data"
    }
   ],
   "source": [
    "# visualising the mostimportant features\n",
    "importances = Randomforest_classifier.feature_importances_\n",
    "vs.feature_plot(importances, x_train, y_train)"
   ]
  }
 ],
 "metadata": {
  "kernelspec": {
   "display_name": "Python 3",
   "language": "python",
   "name": "python3"
  },
  "language_info": {
   "codemirror_mode": {
    "name": "ipython",
    "version": 3
   },
   "file_extension": ".py",
   "mimetype": "text/x-python",
   "name": "python",
   "nbconvert_exporter": "python",
   "pygments_lexer": "ipython3",
   "version": "3.4.3"
  }
 },
 "nbformat": 4,
 "nbformat_minor": 2
}
